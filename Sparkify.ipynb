{
 "cells": [
  {
   "cell_type": "markdown",
   "metadata": {},
   "source": [
    "# Sparkify Project Workspace for prototyping\n",
    "This workspace contains a tiny subset (128MB) of the full dataset available (12GB)"
   ]
  },
  {
   "cell_type": "code",
   "execution_count": 15,
   "metadata": {},
   "outputs": [],
   "source": [
    "# import libraries\n",
    "from pyspark.sql import SparkSession\n",
    "from pyspark.sql import Window\n",
    "\n",
    "from pyspark.sql.functions import count, col, to_date, udf, sum\n",
    "from pyspark.sql.types import IntegerType\n",
    "\n",
    "\n",
    "import numpy as np\n",
    "import matplotlib.pyplot as plt\n",
    "import seaborn as sns\n",
    "\n",
    "sns.set_style('darkgrid')"
   ]
  },
  {
   "cell_type": "code",
   "execution_count": 2,
   "metadata": {},
   "outputs": [],
   "source": [
    "# create a Spark session\n",
    "spark = SparkSession.builder.getOrCreate()"
   ]
  },
  {
   "cell_type": "markdown",
   "metadata": {},
   "source": [
    "# Load and Clean Dataset\n",
    "In this workspace, the mini-dataset file is `mini_sparkify_event_data.json`. Load and clean the dataset, checking for invalid or missing data - for example, records without userids or sessionids. "
   ]
  },
  {
   "cell_type": "code",
   "execution_count": 4,
   "metadata": {},
   "outputs": [],
   "source": [
    "df = spark.read.json('mini_sparkify_event_data.json')\n",
    "\n",
    "# df.head(5)"
   ]
  },
  {
   "cell_type": "code",
   "execution_count": 5,
   "metadata": {},
   "outputs": [
    {
     "data": {
      "text/plain": [
       "(286500, 18)"
      ]
     },
     "execution_count": 5,
     "metadata": {},
     "output_type": "execute_result"
    }
   ],
   "source": [
    "df_pd = df.toPandas()\n",
    "df_pd.shape"
   ]
  },
  {
   "cell_type": "markdown",
   "metadata": {},
   "source": [
    "Check how many nulls exist on userID and sessionId"
   ]
  },
  {
   "cell_type": "code",
   "execution_count": 7,
   "metadata": {},
   "outputs": [
    {
     "data": {
      "text/plain": [
       "artist           58392\n",
       "auth                 0\n",
       "firstName         8346\n",
       "gender            8346\n",
       "itemInSession        0\n",
       "lastName          8346\n",
       "length           58392\n",
       "level                0\n",
       "location          8346\n",
       "method               0\n",
       "page                 0\n",
       "registration      8346\n",
       "sessionId            0\n",
       "song             58392\n",
       "status               0\n",
       "ts                   0\n",
       "userAgent         8346\n",
       "userId               0\n",
       "dtype: int64"
      ]
     },
     "execution_count": 7,
     "metadata": {},
     "output_type": "execute_result"
    }
   ],
   "source": [
    "df_pd.isna().sum()"
   ]
  },
  {
   "cell_type": "code",
   "execution_count": 8,
   "metadata": {},
   "outputs": [
    {
     "data": {
      "text/plain": [
       "286500"
      ]
     },
     "execution_count": 8,
     "metadata": {},
     "output_type": "execute_result"
    }
   ],
   "source": [
    "# Go ahaead and write script to remove nas in userId and sessionId anyway\n",
    "df = df.where(col('userId').isNotNull() | col('sessionId').isNotNull())\n",
    "df.count()"
   ]
  },
  {
   "cell_type": "markdown",
   "execution_count": null,
   "metadata": {},
   "outputs": [],
   "source": [
    "# Exploratory Data Analysis\n",
    "When you're working with the full dataset, perform EDA by loading a small subset of the data and doing basic manipulations within Spark. In this workspace, you are already provided a small subset of data you can explore.\n",
    "\n",
    "### Define Churn\n",
    "\n",
    "Once you've done some preliminary analysis, create a column `Churn` to use as the label for your model. I suggest using the `Cancellation Confirmation` events to define your churn, which happen for both paid and free users. As a bonus task, you can also look into the `Downgrade` events.\n",
    "\n",
    "### Explore Data\n",
    "Once you've defined churn, perform some exploratory data analysis to observe the behavior for users who stayed vs users who churned. You can start by exploring aggregates on these two groups of users, observing how much of a specific action they experienced per a certain time unit or number of songs played."
   ]
  },
  {
   "cell_type": "markdown",
   "metadata": {},
   "source": [
    "Perform a groupBy on page column to get the distrbution of events performed by all users"
   ]
  },
  {
   "cell_type": "code",
   "execution_count": 9,
   "metadata": {},
   "outputs": [
    {
     "name": "stdout",
     "output_type": "stream",
     "text": [
      "+--------------------+------+\n",
      "|                page| count|\n",
      "+--------------------+------+\n",
      "|              Cancel|    52|\n",
      "|    Submit Downgrade|    63|\n",
      "|         Thumbs Down|  2546|\n",
      "|                Home| 14457|\n",
      "|           Downgrade|  2055|\n",
      "|         Roll Advert|  3933|\n",
      "|              Logout|  3226|\n",
      "|       Save Settings|   310|\n",
      "|Cancellation Conf...|    52|\n",
      "|               About|   924|\n",
      "| Submit Registration|     5|\n",
      "|            Settings|  1514|\n",
      "|               Login|  3241|\n",
      "|            Register|    18|\n",
      "|     Add to Playlist|  6526|\n",
      "|          Add Friend|  4277|\n",
      "|            NextSong|228108|\n",
      "|           Thumbs Up| 12551|\n",
      "|                Help|  1726|\n",
      "|             Upgrade|   499|\n",
      "+--------------------+------+\n",
      "only showing top 20 rows\n",
      "\n"
     ]
    }
   ],
   "source": [
    "df.groupBy('page').count().show()"
   ]
  },
  {
   "cell_type": "markdown",
   "metadata": {},
   "source": [
    "Assuming Cancellation Confirmation to be the churn event, there are 52 cancel events - need to check if all the 52 events are from unique userIds"
   ]
  },
  {
   "cell_type": "code",
   "execution_count": 6,
   "metadata": {},
   "outputs": [
    {
     "data": {
      "text/plain": [
       "52"
      ]
     },
     "execution_count": 6,
     "metadata": {},
     "output_type": "execute_result"
    }
   ],
   "source": [
    "df.filter(\"page = 'Cancel'\").select('userId').distinct().count()"
   ]
  },
  {
   "cell_type": "markdown",
   "metadata": {},
   "source": [
    "Looks like all the 52 users are distinct.\n",
    "Calculate the percentage of churned users wrt to totalnumber of users"
   ]
  },
  {
   "cell_type": "code",
   "execution_count": 7,
   "metadata": {},
   "outputs": [
    {
     "data": {
      "text/plain": [
       "23.008849557522122"
      ]
     },
     "execution_count": 7,
     "metadata": {},
     "output_type": "execute_result"
    }
   ],
   "source": [
    "(df.filter(\"page = 'Cancel'\") \\\n",
    "     .select('userId') \\\n",
    "     .distinct() \\\n",
    "     .count() * 100) / df.select('userId').distinct().count()"
   ]
  },
  {
   "cell_type": "markdown",
   "metadata": {},
   "source": [
    "So 23% of the users have churned in this dataset.\n",
    "\n",
    "As suggested, let's take a look at the Downgrade events and check how many users that canceled have downgraded"
   ]
  },
  {
   "cell_type": "code",
   "execution_count": 8,
   "metadata": {},
   "outputs": [
    {
     "data": {
      "text/plain": [
       "(119,)"
      ]
     },
     "execution_count": 8,
     "metadata": {},
     "output_type": "execute_result"
    }
   ],
   "source": [
    "canceled_users = df.filter(\"page = 'Cancel'\").select('userId').distinct().collect()\n",
    "downgraded_users = df.filter(\"page = 'Downgrade'\").select('userId').distinct().collect()\n",
    "\n",
    "def convert_rows_to_list(rows_list):\n",
    "    '''Converts a list of rows to a list. Assumes only a single column row list'''\n",
    "    result = []\n",
    "    for row in rows_list:\n",
    "        result.append(row['userId'])\n",
    "    return result\n",
    "    \n",
    "canceled_users = convert_rows_to_list(canceled_users)\n",
    "downgraded_users = convert_rows_to_list(downgraded_users)\n",
    "\n",
    "np.setdiff1d(np.array(downgraded_users), np.array(canceled_users)).shape"
   ]
  },
  {
   "cell_type": "markdown",
   "metadata": {},
   "source": [
    "There are 119 users who downgraded but not canceled"
   ]
  },
  {
   "cell_type": "code",
   "execution_count": 9,
   "metadata": {},
   "outputs": [
    {
     "name": "stdout",
     "output_type": "stream",
     "text": [
      "Percentage of canceled users in downgraded users 67.3076923076923\n"
     ]
    }
   ],
   "source": [
    "# Check how many canceled users have downgraded\n",
    "counter = 0\n",
    "for cu in canceled_users:\n",
    "    if cu in set(downgraded_users):\n",
    "        counter+=1\n",
    "        \n",
    "print(\"Percentage of canceled users in downgraded users {}\".format(counter * 100 / len(canceled_users)))"
   ]
  },
  {
   "cell_type": "markdown",
   "metadata": {},
   "source": [
    "I think we can use downgrade as one of the features, if possible, but losing the user is more important than a downgrading user and I plan to focus on 'canceling' users for this analysis"
   ]
  },
  {
   "cell_type": "markdown",
   "metadata": {},
   "source": [
    "#### Add a churn column to the dataframe for the churned (canceled) users"
   ]
  },
  {
   "cell_type": "code",
   "execution_count": 10,
   "metadata": {},
   "outputs": [],
   "source": [
    "add_churn = udf(lambda x : 1 if x is not None else 0, IntegerType())\n",
    "\n",
    "df_canceled_users = df.filter(\"page = 'Cancel'\")\\\n",
    "                      .select('userId')\\\n",
    "                      .distinct()\\\n",
    "                      .withColumn('churn', add_churn(col('userId')))\n",
    "\n",
    "\n",
    "# Join df_canceled_users with df\n",
    "df = df.join(df_canceled_users, on = ['userId'], how = 'left')\n",
    "\n",
    "# Fill null in churn column with 0s\n",
    "df = df.fillna({'churn': 0})"
   ]
  },
  {
   "cell_type": "code",
   "execution_count": 11,
   "metadata": {},
   "outputs": [
    {
     "name": "stdout",
     "output_type": "stream",
     "text": [
      "+-----+-----+\n",
      "|churn|count|\n",
      "+-----+-----+\n",
      "|    1|   52|\n",
      "|    0|  174|\n",
      "+-----+-----+\n",
      "\n"
     ]
    }
   ],
   "source": [
    "# Churned user count\n",
    "df.select('churn', 'userId').distinct().groupBy('churn').count().show()"
   ]
  },
  {
   "cell_type": "markdown",
   "metadata": {},
   "source": [
    "# Feature Engineering\n",
    "Once you've familiarized yourself with the data, build out the features you find promising to train your model on. To work with the full dataset, you can follow the following steps.\n",
    "- Write a script to extract the necessary features from the smaller subset of data\n",
    "- Ensure that your script is scalable, using the best practices discussed in Lesson 3\n",
    "- Try your script on the full data set, debugging your script if necessary\n",
    "\n",
    "If you are working in the classroom workspace, you can just extract features based on the small subset of data contained here. Be sure to transfer over this work to the larger dataset when you work on your Spark cluster."
   ]
  },
  {
   "cell_type": "markdown",
   "metadata": {},
   "source": [
    "#### Paid/free users"
   ]
  },
  {
   "cell_type": "code",
   "execution_count": 16,
   "metadata": {},
   "outputs": [
    {
     "data": {
      "text/plain": [
       "<matplotlib.axes._subplots.AxesSubplot at 0x7fea02607b00>"
      ]
     },
     "execution_count": 16,
     "metadata": {},
     "output_type": "execute_result"
    },
    {
     "data": {
      "image/png": "[encoded data removed]",
      "text/plain": [
       "<matplotlib.figure.Figure at 0x7fea024aaf28>"
      ]
     },
     "metadata": {},
     "output_type": "display_data"
    }
   ],
   "source": [
    "# 1. How many paid and unpaid users churn? Intuition is unpaid users cancel their subscription \n",
    "# more than paid users for a good reason\n",
    "add_level = udf(lambda x: 1 if x == \"free\" else 0, IntegerType())\n",
    "df = df.withColumn(\"level_num\", add_level(df.level))\n",
    "\n",
    "avg_level_df = df.groupBy('churn').agg({'level_num':'avg'}) \\\n",
    "                 .withColumnRenamed('avg(level_num)', 'avg_level') \\\n",
    "                 .toPandas()\n",
    "\n",
    "plt.figure()\n",
    "sns.barplot(x = 'churn', y = 'avg_level', data = avg_level_df)"
   ]
  },
  {
   "cell_type": "markdown",
   "metadata": {},
   "source": [
    "Average level is a bit higher in churned users, this goes on to show that paid users have a higher affinity to leave"
   ]
  },
  {
   "cell_type": "markdown",
   "metadata": {},
   "source": [
    "#### Ad_served"
   ]
  },
  {
   "cell_type": "code",
   "execution_count": 17,
   "metadata": {},
   "outputs": [
    {
     "data": {
      "text/plain": [
       "<matplotlib.axes._subplots.AxesSubplot at 0x7fea021ee3c8>"
      ]
     },
     "execution_count": 17,
     "metadata": {},
     "output_type": "execute_result"
    },
    {
     "data": {
      "image/png": "[encoded data removed]",
      "text/plain": [
       "<matplotlib.figure.Figure at 0x7fe9f83623c8>"
      ]
     },
     "metadata": {},
     "output_type": "display_data"
    }
   ],
   "source": [
    "# Lets see how ads served is related to churn\n",
    "\n",
    "# Add a column that adds a 1 to every ad shown or page = Roll advert\n",
    "add_ad_served = udf(lambda x: 1 if x == \"Roll Advert\" else 0, IntegerType())\n",
    "df = df.withColumn(\"ad_served\", add_ad_served(df.page))\n",
    "\n",
    "df_ads_pd = df.groupBy('churn').agg({'ad_served':'sum'})\\\n",
    "                .select('churn',col('sum(ad_served)').alias('ads_served'))\\\n",
    "                .toPandas()\n",
    "\n",
    "plt.figure()\n",
    "sns.barplot(x = 'churn', y = 'ads_served', data = df_ads_pd)\n"
   ]
  },
  {
   "cell_type": "markdown",
   "metadata": {},
   "source": [
    "Therefore on an avg a churned user is shown lesser number of ads on an average.\n",
    "So we can use total number of ads as one of the features"
   ]
  },
  {
   "cell_type": "markdown",
   "metadata": {},
   "source": [
    "#### Number of songs played"
   ]
  },
  {
   "cell_type": "code",
   "execution_count": 20,
   "metadata": {},
   "outputs": [
    {
     "data": {
      "text/plain": [
       "<matplotlib.axes._subplots.AxesSubplot at 0x7fe9f09ef630>"
      ]
     },
     "execution_count": 20,
     "metadata": {},
     "output_type": "execute_result"
    },
    {
     "data": {
      "image/png": "[encoded data removed]",
      "text/plain": [
       "<matplotlib.figure.Figure at 0x7fe9f25802e8>"
      ]
     },
     "metadata": {},
     "output_type": "display_data"
    }
   ],
   "source": [
    "# Number of songs a user listens to should have an effect on churn\n",
    "# Add next_song\n",
    "add_next_song = udf(lambda x: 1 if x == \"NextSong\" else 0, IntegerType())\n",
    "df = df.withColumn(\"song\", add_next_song(df.page))\n",
    "\n",
    "next_song_df = df.groupBy('userId','churn')\\\n",
    "                .agg({'artist':'count'})\\\n",
    "                .groupBy('churn')\\\n",
    "                .agg({'count(artist)' : 'avg'})\\\n",
    "                .withColumnRenamed('avg(count(artist))', 'sum_song')\\\n",
    "                .toPandas()\n",
    "    \n",
    "plt.figure()\n",
    "sns.barplot(x = 'churn', y = 'sum_song', data = next_song_df)"
   ]
  },
  {
   "cell_type": "markdown",
   "metadata": {},
   "source": [
    "This goes on to show that a churned user on average listens to much less number of songs. So number of songs is a \n",
    "good feature to include"
   ]
  },
  {
   "cell_type": "markdown",
   "metadata": {},
   "source": [
    "#### Songs added to playlist"
   ]
  },
  {
   "cell_type": "code",
   "execution_count": 22,
   "metadata": {},
   "outputs": [
    {
     "data": {
      "text/plain": [
       "<matplotlib.axes._subplots.AxesSubplot at 0x7fe9eed45fd0>"
      ]
     },
     "execution_count": 22,
     "metadata": {},
     "output_type": "execute_result"
    },
    {
     "data": {
      "image/png": "[encoded data removed]",
      "text/plain": [
       "<matplotlib.figure.Figure at 0x7fe9f09e5b38>"
      ]
     },
     "metadata": {},
     "output_type": "display_data"
    }
   ],
   "source": [
    "## Adding a song to playlist \n",
    "# Add to_playlist\n",
    "add_to_playlist = udf(lambda x: 1 if x == \"Add to Playlist\" else 0, IntegerType())\n",
    "df = df.withColumn(\"to_playlist\", add_to_playlist(df.page))\n",
    "\n",
    "to_playlist_df = df.groupBy('userId','churn')\\\n",
    "                    .agg({'to_playlist':'sum'})\\\n",
    "                    .groupBy('churn')\\\n",
    "                    .agg({'sum(to_playlist)' : 'avg'})\\\n",
    "                    .withColumnRenamed('avg(sum(to_playlist))', 'to_playlist')\\\n",
    "                    .toPandas()\n",
    "    \n",
    "plt.figure()\n",
    "sns.barplot(x = 'churn', y = 'to_playlist', data = to_playlist_df)"
   ]
  },
  {
   "cell_type": "markdown",
   "metadata": {},
   "source": [
    "Churned users add lesser number of songs to the playlist and this makes intuitive sense"
   ]
  },
  {
   "cell_type": "markdown",
   "metadata": {},
   "source": [
    "#### Adding friends"
   ]
  },
  {
   "cell_type": "code",
   "execution_count": 23,
   "metadata": {},
   "outputs": [
    {
     "data": {
      "text/plain": [
       "<matplotlib.axes._subplots.AxesSubplot at 0x7fe9ee955668>"
      ]
     },
     "execution_count": 23,
     "metadata": {},
     "output_type": "execute_result"
    },
    {
     "data": {
      "image/png": "[encoded data removed]",
      "text/plain": [
       "<matplotlib.figure.Figure at 0x7fe9eed45198>"
      ]
     },
     "metadata": {},
     "output_type": "display_data"
    }
   ],
   "source": [
    "## Adding friends\n",
    "# Add to add_friend\n",
    "add_friend = udf(lambda x: 1 if x == \"Add Friend\" else 0, IntegerType())\n",
    "df = df.withColumn(\"friend\", add_friend(df.page))\n",
    "\n",
    "add_friend_df = df.groupBy('userId','churn')\\\n",
    "                    .agg({'friend':'sum'})\\\n",
    "                    .groupBy('churn')\\\n",
    "                    .agg({'sum(friend)' : 'avg'})\\\n",
    "                    .withColumnRenamed('avg(sum(friend))', 'friends')\\\n",
    "                    .toPandas()\n",
    "plt.figure()\n",
    "sns.barplot(x = 'churn', y = 'friends', data = add_friend_df)"
   ]
  },
  {
   "cell_type": "markdown",
   "metadata": {},
   "source": [
    "Churned users are less socially active on the app"
   ]
  },
  {
   "cell_type": "markdown",
   "metadata": {},
   "source": [
    "#### Accessing help and settings"
   ]
  },
  {
   "cell_type": "code",
   "execution_count": 24,
   "metadata": {},
   "outputs": [
    {
     "data": {
      "text/plain": [
       "<matplotlib.axes._subplots.AxesSubplot at 0x7fe9ee730c88>"
      ]
     },
     "execution_count": 24,
     "metadata": {},
     "output_type": "execute_result"
    },
    {
     "data": {
      "image/png": "[encoded data removed]",
      "text/plain": [
       "<matplotlib.figure.Figure at 0x7fe9ee955438>"
      ]
     },
     "metadata": {},
     "output_type": "display_data"
    }
   ],
   "source": [
    "## Accessing help and settings is for more involved users. Lets see if they churn more\n",
    "\n",
    "# Add help_settings\n",
    "add_help = udf(lambda x: 1 if x in [\"Help\", \"Settings\"] else 0, IntegerType())\n",
    "df = df.withColumn(\"help\", add_help(df.page))\n",
    "\n",
    "help_df = df.groupBy('userId','churn')\\\n",
    "            .agg({'help':'sum'})\\\n",
    "            .groupBy('churn')\\\n",
    "            .agg({'sum(help)' : 'avg'})\\\n",
    "            .withColumnRenamed('avg(sum(help))', 'help')\\\n",
    "            .toPandas()\n",
    "\n",
    "plt.figure()\n",
    "sns.barplot(x = 'churn', y = 'help', data = help_df)"
   ]
  },
  {
   "cell_type": "markdown",
   "metadata": {},
   "source": [
    "Churned users seek less help"
   ]
  },
  {
   "cell_type": "markdown",
   "metadata": {},
   "source": [
    "#### Gender"
   ]
  },
  {
   "cell_type": "code",
   "execution_count": 25,
   "metadata": {},
   "outputs": [
    {
     "data": {
      "text/plain": [
       "<matplotlib.axes._subplots.AxesSubplot at 0x7fe9ee2fcfd0>"
      ]
     },
     "execution_count": 25,
     "metadata": {},
     "output_type": "execute_result"
    },
    {
     "data": {
      "image/png": "[encoded data removed]",
      "text/plain": [
       "<matplotlib.figure.Figure at 0x7fe9ee820358>"
      ]
     },
     "metadata": {},
     "output_type": "display_data"
    }
   ],
   "source": [
    "## Check if gender affects the churn number\n",
    "df_gender = df.select('userId','gender','churn')\\\n",
    "                .distinct()\\\n",
    "                .groupBy('gender')\\\n",
    "                .sum()\\\n",
    "                .withColumnRenamed('sum(churn)', 'churn')\\\n",
    "                .toPandas()\n",
    "\n",
    "plt.figure()\n",
    "sns.barplot(x = 'gender', y = 'churn', data = df_gender)"
   ]
  },
  {
   "cell_type": "markdown",
   "metadata": {},
   "source": [
    "More males churned than females - this could a feature that we could use"
   ]
  },
  {
   "cell_type": "markdown",
   "metadata": {},
   "source": [
    "#### Thumbs ratio"
   ]
  },
  {
   "cell_type": "code",
   "execution_count": 27,
   "metadata": {},
   "outputs": [
    {
     "data": {
      "text/plain": [
       "<matplotlib.axes._subplots.AxesSubplot at 0x7fe9edfeb7f0>"
      ]
     },
     "execution_count": 27,
     "metadata": {},
     "output_type": "execute_result"
    },
    {
     "data": {
      "image/png": "[encoded data removed]",
      "text/plain": [
       "<matplotlib.figure.Figure at 0x7fe9ee730208>"
      ]
     },
     "metadata": {},
     "output_type": "display_data"
    }
   ],
   "source": [
    "## Lets calculate a thumbsup to thumbsdown ratio. Higher this ratio, the more songs a typical user likes. \n",
    "# expecting this number to be higher for un-churned users\n",
    "\n",
    "# Add thums_up\n",
    "add_tu = udf(lambda x:1 if x == \"Thumbs Up\" else 0, IntegerType())\n",
    "df = df.withColumn(\"tu\", add_tu(df.page))\n",
    "\n",
    "# Add thumbs down\n",
    "add_td = udf(lambda x: 1 if x == \"Thumbs Down\" else 0, IntegerType())\n",
    "df = df.withColumn(\"td\", add_td(df.page))\n",
    "\n",
    "df = df.withColumn(\"thumbs_ratio\", df.tu / df.td)\n",
    "\n",
    "thumbs_df = df.groupBy('userId','churn')\\\n",
    "                .agg({'tu':'sum', 'td':'sum'})\\\n",
    "                .groupBy('churn')\\\n",
    "                .agg({'sum(td)':'sum', 'sum(tu)':'sum'})\\\n",
    "                .withColumn('tu_td_ratio', col('sum(sum(tu))') / col('sum(sum(td))'))\\\n",
    "                .toPandas()\n",
    "\n",
    "plt.figure()\n",
    "sns.barplot(x = \"churn\", y = \"tu_td_ratio\", data = thumbs_df)\n"
   ]
  },
  {
   "cell_type": "markdown",
   "metadata": {},
   "source": [
    "Unchurned users tend to like the quality of songs compared to unchurned users"
   ]
  },
  {
   "cell_type": "code",
   "execution_count": 30,
   "metadata": {},
   "outputs": [
    {
     "name": "stdout",
     "output_type": "stream",
     "text": [
      "root\n",
      " |-- userId: string (nullable = true)\n",
      " |-- artist: string (nullable = true)\n",
      " |-- auth: string (nullable = true)\n",
      " |-- firstName: string (nullable = true)\n",
      " |-- gender: string (nullable = true)\n",
      " |-- itemInSession: long (nullable = true)\n",
      " |-- lastName: string (nullable = true)\n",
      " |-- length: double (nullable = true)\n",
      " |-- level: string (nullable = true)\n",
      " |-- location: string (nullable = true)\n",
      " |-- method: string (nullable = true)\n",
      " |-- page: string (nullable = true)\n",
      " |-- registration: long (nullable = true)\n",
      " |-- sessionId: long (nullable = true)\n",
      " |-- song: integer (nullable = true)\n",
      " |-- status: long (nullable = true)\n",
      " |-- ts: long (nullable = true)\n",
      " |-- userAgent: string (nullable = true)\n",
      " |-- churn: integer (nullable = false)\n",
      " |-- level_num: integer (nullable = true)\n",
      " |-- ad_served: integer (nullable = true)\n",
      " |-- to_playlist: integer (nullable = true)\n",
      " |-- friend: integer (nullable = true)\n",
      " |-- help: integer (nullable = true)\n",
      " |-- tu: integer (nullable = true)\n",
      " |-- td: integer (nullable = true)\n",
      " |-- thumbs_ratio: double (nullable = true)\n",
      "\n"
     ]
    }
   ],
   "source": [
    "df.printSchema()"
   ]
  },
  {
   "cell_type": "code",
   "execution_count": 31,
   "metadata": {},
   "outputs": [],
   "source": [
    "# Aggregate the data into a master_df with features aggregated\n",
    "\n",
    "master_df = df.groupBy(['userId','churn','gender'])\\\n",
    "    .agg({'ad_served':'sum',\n",
    "         'length':'sum',\n",
    "         'artist':'count',\n",
    "         'to_playlist':'sum',\n",
    "         'friend':'sum',\n",
    "         'help':'sum',\n",
    "         'tu':'sum',\n",
    "         'td':'sum',\n",
    "          'level':'avg'\n",
    "         }).withColumnRenamed('sum(length)', 'sum_length')\\\n",
    "           .withColumnRenamed('count(artist)', 'sum_song')\\\n",
    "    .withColumnRenamed('sum(to_playlist)', 'sum_playlist')\\\n",
    "    .withColumnRenamed('sum(friend)','sum_friend')\\\n",
    "    .withColumnRenamed('sum(help)','sum_help')\\\n",
    "    .withColumnRenamed('sum(tu)', 'sum_tu')\\\n",
    "    .withColumnRenamed('sum(td)', 'sum_td')\\\n",
    "    .withColumnRenamed('sum(ad_served)', 'sum_ad_served')\\\n",
    "    .withColumnRenamed('avg(level)','avg_level')"
   ]
  },
  {
   "cell_type": "code",
   "execution_count": 32,
   "metadata": {},
   "outputs": [
    {
     "data": {
      "text/plain": [
       "userId             0\n",
       "churn              0\n",
       "gender             1\n",
       "sum_tu             0\n",
       "sum_friend         0\n",
       "sum_td             0\n",
       "sum_help           0\n",
       "sum_song           0\n",
       "sum_ad_served      0\n",
       "sum_length         1\n",
       "sum_playlist       0\n",
       "avg_level        226\n",
       "dtype: int64"
      ]
     },
     "execution_count": 32,
     "metadata": {},
     "output_type": "execute_result"
    }
   ],
   "source": [
    "master_df.toPandas().isna().sum()"
   ]
  },
  {
   "cell_type": "code",
   "execution_count": 33,
   "metadata": {},
   "outputs": [],
   "source": [
    "# From above, avg_level has a bunch of NAs that need to be filled. We can consider, avg_level to be zero or a free user,\n",
    "# when level is NA\n",
    "master_df = master_df.fillna({'avg_level':0.0})"
   ]
  },
  {
   "cell_type": "code",
   "execution_count": 34,
   "metadata": {},
   "outputs": [
    {
     "name": "stdout",
     "output_type": "stream",
     "text": [
      "root\n",
      " |-- userId: string (nullable = true)\n",
      " |-- churn: integer (nullable = false)\n",
      " |-- gender: string (nullable = true)\n",
      " |-- sum_tu: long (nullable = true)\n",
      " |-- sum_friend: long (nullable = true)\n",
      " |-- sum_td: long (nullable = true)\n",
      " |-- sum_help: long (nullable = true)\n",
      " |-- sum_song: long (nullable = false)\n",
      " |-- sum_ad_served: long (nullable = true)\n",
      " |-- sum_length: double (nullable = true)\n",
      " |-- sum_playlist: long (nullable = true)\n",
      " |-- avg_level: double (nullable = false)\n",
      " |-- gender_num: integer (nullable = true)\n",
      " |-- thumbs_ratio: double (nullable = true)\n",
      "\n"
     ]
    }
   ],
   "source": [
    "# Need to convert gender to numeric (1 = M and 0 = F)\n",
    "# Need to create a tu/td ratio. Call this thumbs_ratio\n",
    "\n",
    "convert_gender = udf(lambda x: 1 if x == \"M\" else 0, IntegerType())\n",
    "\n",
    "master_df = master_df.withColumn('gender_num', convert_gender(master_df.gender))\\\n",
    "                    .withColumn('thumbs_ratio', master_df.sum_tu / master_df.sum_td)\n",
    "\n",
    "master_df.printSchema()"
   ]
  },
  {
   "cell_type": "code",
   "execution_count": 35,
   "metadata": {},
   "outputs": [],
   "source": [
    "## Switch churn to label - this allows classifier to pick the right column up for the classification task\n",
    "master_df = master_df.withColumnRenamed('churn', 'label')"
   ]
  },
  {
   "cell_type": "code",
   "execution_count": 36,
   "metadata": {},
   "outputs": [],
   "source": [
    "# Create features\n",
    "# Build assembled features\n",
    "from pyspark.ml.feature import VectorAssembler, StandardScaler, MinMaxScaler\n",
    "\n",
    "assembler = VectorAssembler(inputCols = [\"sum_song\", \"sum_friend\", \"sum_help\", \"sum_ad_served\", \"sum_length\", \"sum_playlist\",\n",
    "                                        \"thumbs_ratio\",\"gender_num\", \"avg_level\"],\n",
    "                            outputCol = \"features\", handleInvalid=\"skip\")\n",
    "\n",
    "scaler = MinMaxScaler(inputCol=\"features\", outputCol=\"scaledFeatures\")"
   ]
  },
  {
   "cell_type": "markdown",
   "metadata": {},
   "source": [
    "# Modeling\n",
    "Split the full dataset into train, test, and validation sets. Test out several of the machine learning methods you learned. Evaluate the accuracy of the various models, tuning parameters as necessary. Determine your winning model based on test accuracy and report results on the validation set. Since the churned users are a fairly small subset, I suggest using F1 score as the metric to optimize."
   ]
  },
  {
   "cell_type": "code",
   "execution_count": 37,
   "metadata": {},
   "outputs": [],
   "source": [
    "from pyspark.ml import Pipeline\n",
    "from pyspark.ml.classification import LogisticRegression, GBTClassifier, RandomForestClassifier"
   ]
  },
  {
   "cell_type": "code",
   "execution_count": 39,
   "metadata": {},
   "outputs": [],
   "source": [
    "# Split the dataset\n",
    "rest, validate = master_df.randomSplit([0.8, 0.2], seed = 42)"
   ]
  },
  {
   "cell_type": "code",
   "execution_count": 40,
   "metadata": {},
   "outputs": [],
   "source": [
    "# Using Gradient Boosted Tree Classifier\n",
    "gdbt = GBTClassifier(featuresCol=\"scaledFeatures\")\n",
    "pipeline = Pipeline(stages = [assembler, scaler, gdbt])\n",
    "model = pipeline.fit(rest)"
   ]
  },
  {
   "cell_type": "code",
   "execution_count": 41,
   "metadata": {},
   "outputs": [],
   "source": [
    "result = model.transform(validate)"
   ]
  },
  {
   "cell_type": "code",
   "execution_count": 42,
   "metadata": {},
   "outputs": [],
   "source": [
    "from pyspark.ml.evaluation import MulticlassClassificationEvaluator"
   ]
  },
  {
   "cell_type": "markdown",
   "metadata": {},
   "source": [
    "Using F-score for validation as the dataset is heavily imbalanced"
   ]
  },
  {
   "cell_type": "code",
   "execution_count": 43,
   "metadata": {},
   "outputs": [
    {
     "name": "stdout",
     "output_type": "stream",
     "text": [
      "f1: 0.7192982456140351\n"
     ]
    }
   ],
   "source": [
    "evaluator = MulticlassClassificationEvaluator(predictionCol=\"prediction\", labelCol=\"label\")\n",
    "f1_score = evaluator.evaluate(result, {evaluator.metricName: \"f1\"})\n",
    "print(\"f1: {}\".format(f1_score))"
   ]
  },
  {
   "cell_type": "code",
   "execution_count": 44,
   "metadata": {},
   "outputs": [
    {
     "name": "stdout",
     "output_type": "stream",
     "text": [
      "f1: 0.6569200779727097\n"
     ]
    }
   ],
   "source": [
    "## RandomForestClassifier\n",
    "\n",
    "rf = RandomForestClassifier(featuresCol=\"scaledFeatures\")\n",
    "\n",
    "pipeline = Pipeline(stages = [assembler, scaler, rf])\n",
    "model = pipeline.fit(rest)\n",
    "\n",
    "result = model.transform(validate)\n",
    "\n",
    "evaluator = MulticlassClassificationEvaluator(predictionCol=\"prediction\", labelCol=\"label\")\n",
    "f1_score = evaluator.evaluate(result, {evaluator.metricName: \"f1\"})\n",
    "print(\"f1: {}\".format(f1_score))"
   ]
  },
  {
   "cell_type": "code",
   "execution_count": 45,
   "metadata": {},
   "outputs": [
    {
     "name": "stdout",
     "output_type": "stream",
     "text": [
      "f1: 0.6057347670250895\n"
     ]
    }
   ],
   "source": [
    "## LogisticRegression\n",
    "\n",
    "lr =  LogisticRegression(maxIter=10, regParam=0.0, elasticNetParam=0)\n",
    "\n",
    "pipeline = Pipeline(stages = [assembler, scaler, lr])\n",
    "model = pipeline.fit(rest)\n",
    "\n",
    "result = model.transform(validate)\n",
    "\n",
    "evaluator = MulticlassClassificationEvaluator(predictionCol=\"prediction\", labelCol=\"label\")\n",
    "f1_score = evaluator.evaluate(result, {evaluator.metricName: \"f1\"})\n",
    "print(\"f1: {}\".format(f1_score))"
   ]
  },
  {
   "cell_type": "markdown",
   "metadata": {},
   "source": [
    "Gradient Boosting seems to be generate best results for this feature subset"
   ]
  },
  {
   "cell_type": "markdown",
   "metadata": {},
   "source": [
    "# Next Steps\n",
    "Crossvalidation and hyperparameter tuning using grid-based search is computationally not possible in this workspace. Code below is executed on AWS EMR cluster using the script file Sparkify.py"
   ]
  },
  {
   "cell_type": "code",
   "execution_count": 21,
   "metadata": {},
   "outputs": [],
   "source": [
    "# from pyspark.ml.tuning import CrossValidator, ParamGridBuilder\n",
    "\n",
    "# paramGrid = ParamGridBuilder() \\\n",
    "#     .addGrid(gdbt.maxDepth, [5, 10]) \\\n",
    "#     .addGrid(gdbt.maxBins, [32, 64]) \\\n",
    "#     .build() \n",
    "\n",
    "\n",
    "# crossval = CrossValidator(estimator=pipeline,\n",
    "#                           estimatorParamMaps=paramGrid,\n",
    "#                           evaluator=MulticlassClassificationEvaluator(),\n",
    "#                           numFolds=3)\n",
    "\n",
    "# model = crossval.fit(rest)\n",
    "\n",
    "# result = model.transform(validate)\n",
    "\n",
    "# evaluator = MulticlassClassificationEvaluator(predictionCol=\"prediction\", labelCol=\"label\")\n",
    "# f1_score = evaluator.evaluate(result, {evaluator.metricName: \"f1\"})\n",
    "# print(\"f1: {}\".format(f1_score))"
   ]
  },
  {
   "cell_type": "markdown",
   "metadata": {},
   "source": []
  },
  {
   "cell_type": "code",
   "execution_count": null,
   "metadata": {},
   "outputs": [],
   "source": []
  }
 ],
 "metadata": {
  "kernelspec": {
   "display_name": "Python 3",
   "language": "python",
   "name": "python3"
  },
  "language_info": {
   "codemirror_mode": {
    "name": "ipython",
    "version": 3
   },
   "file_extension": ".py",
   "mimetype": "text/x-python",
   "name": "python",
   "nbconvert_exporter": "python",
   "pygments_lexer": "ipython3",
   "version": "3.7.3"
  }
 },
 "nbformat": 4,
 "nbformat_minor": 2
}